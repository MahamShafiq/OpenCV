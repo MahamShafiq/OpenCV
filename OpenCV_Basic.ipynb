{
  "nbformat": 4,
  "nbformat_minor": 0,
  "metadata": {
    "colab": {
      "name": "OpenCV_Basic.ipynb",
      "provenance": [],
      "collapsed_sections": [],
      "include_colab_link": true
    },
    "kernelspec": {
      "name": "python3",
      "display_name": "Python 3"
    }
  },
  "cells": [
    {
      "cell_type": "markdown",
      "metadata": {
        "id": "view-in-github",
        "colab_type": "text"
      },
      "source": [
        "<a href=\"https://colab.research.google.com/github/MahamShafiq/OpenCV/blob/master/OpenCV_Basic.ipynb\" target=\"_parent\"><img src=\"https://colab.research.google.com/assets/colab-badge.svg\" alt=\"Open In Colab\"/></a>"
      ]
    },
    {
      "cell_type": "code",
      "metadata": {
        "id": "-Ok0CtnIiXcN",
        "colab_type": "code",
        "colab": {}
      },
      "source": [
        ""
      ],
      "execution_count": 0,
      "outputs": []
    },
    {
      "cell_type": "code",
      "metadata": {
        "id": "9TPwUYIPi7_9",
        "colab_type": "code",
        "outputId": "c3695ea3-b102-4122-9751-f28835b6634a",
        "colab": {
          "base_uri": "https://localhost:8080/",
          "height": 122
        }
      },
      "source": [
        "from google.colab import drive\n",
        "drive.mount('/content/drive')"
      ],
      "execution_count": 0,
      "outputs": [
        {
          "output_type": "stream",
          "text": [
            "Go to this URL in a browser: https://accounts.google.com/o/oauth2/auth?client_id=947318989803-6bn6qk8qdgf4n4g3pfee6491hc0brc4i.apps.googleusercontent.com&redirect_uri=urn%3aietf%3awg%3aoauth%3a2.0%3aoob&response_type=code&scope=email%20https%3a%2f%2fwww.googleapis.com%2fauth%2fdocs.test%20https%3a%2f%2fwww.googleapis.com%2fauth%2fdrive%20https%3a%2f%2fwww.googleapis.com%2fauth%2fdrive.photos.readonly%20https%3a%2f%2fwww.googleapis.com%2fauth%2fpeopleapi.readonly\n",
            "\n",
            "Enter your authorization code:\n",
            "··········\n",
            "Mounted at /content/drive\n"
          ],
          "name": "stdout"
        }
      ]
    },
    {
      "cell_type": "code",
      "metadata": {
        "colab_type": "code",
        "cellView": "both",
        "id": "0bpGUmbxHdQW",
        "colab": {}
      },
      "source": [
        "#@title\n",
        "import os\n",
        "import cv2\n",
        "\n",
        "i = 1\n",
        "for filename in os.listdir(\"/content/drive/My Drive/AIdata\"):\n",
        "     dst = str(i) + \".jpg\"\n",
        "     src ='/content/drive/My Drive/AIdata/'+ filename \n",
        "     dst ='/content/drive/My Drive/AIdatalinear/'+ dst \n",
        "     img = cv2.imread(src)\n",
        "     (h, w) = img.shape[:2]\n",
        "     scale=1.0\n",
        "     smaller_image = cv2.resize(img,(400,400),interpolation=cv2.INTER_LINEAR) \n",
        "     cv2.imwrite(dst,smaller_image)\n",
        "     i += 1 "
      ],
      "execution_count": 0,
      "outputs": []
    },
    {
      "cell_type": "code",
      "metadata": {
        "id": "7aBqokCojAFd",
        "colab_type": "code",
        "colab": {}
      },
      "source": [
        "import os\n",
        "import cv2\n",
        "\n",
        "i = 1\n",
        "for filename in os.listdir(\"/content/drive/My Drive/AIdata\"):\n",
        "     dst = str(i) + \".jpg\"\n",
        "     src ='/content/drive/My Drive/AIdata/'+ filename \n",
        "     dst ='/content/drive/My Drive/AIdatarot180/'+ dst \n",
        "     img = cv2.imread(src)\n",
        "     (h, w) = img.shape[:2]\n",
        "     center = (w / 2, h / 2)\n",
        "     scale=1.0\n",
        "     M = cv2.getRotationMatrix2D(center, 180 , scale)\n",
        "     rotated = cv2.warpAffine(img, M, (w, h))\n",
        "     cv2.imwrite(dst,rotated)\n",
        "     i += 1 "
      ],
      "execution_count": 0,
      "outputs": []
    },
    {
      "cell_type": "code",
      "metadata": {
        "id": "azMpbeiNHG0o",
        "colab_type": "code",
        "colab": {}
      },
      "source": [
        "import numpy as np \n",
        "import cv2 \n",
        "import matplotlib.pyplot as plt \n",
        "%matplotlib inline\n",
        "i = 1\n",
        "for filename in os.listdir(\"/content/drive/My Drive/AIdata\"):\n",
        "     dst = str(i) + \".jpg\"\n",
        "     src ='/content/drive/My Drive/AIdata/'+ filename \n",
        "     dst ='/content/drive/My Drive/AIdataAugmentUsingImageTranslation/'+ dst \n",
        "     img = cv2.imread(src)\n",
        "     (h, w) = img.shape[:2]\n",
        "     M = np.float32([[1,0,-100],[0,1,-100]]) \n",
        "     IT = cv2.warpAffine(img,M,(h,w)) \n",
        "     cv2.imwrite(dst,IT)\n",
        "     i += 1 \n",
        "\n",
        "      \n",
        "\n",
        "\n"
      ],
      "execution_count": 0,
      "outputs": []
    },
    {
      "cell_type": "code",
      "metadata": {
        "id": "cj5YPqIxPLWB",
        "colab_type": "code",
        "colab": {}
      },
      "source": [
        ""
      ],
      "execution_count": 0,
      "outputs": []
    }
  ]
}